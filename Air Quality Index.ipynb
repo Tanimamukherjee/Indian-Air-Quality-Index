{
 "cells": [
  {
   "cell_type": "code",
   "execution_count": 2,
   "id": "76258436",
   "metadata": {},
   "outputs": [],
   "source": [
    "#Importing necessary libraries\n",
    "import pandas as pd\n",
    "import numpy as np\n",
    "import seaborn as sns\n",
    "import matplotlib.pyplot as plt\n",
    "import warnings\n",
    "warnings.filterwarnings(\"ignore\")\n",
    "\n",
    "from sklearn.preprocessing import LabelEncoder\n",
    "from sklearn.model_selection import train_test_split\n",
    "from sklearn.linear_model import LinearRegression\n",
    "from sklearn.tree import DecisionTreeRegressor\n",
    "from sklearn.ensemble import RandomForestRegressor\n",
    "from sklearn import metrics\n",
    "from sklearn.metrics import mean_absolute_error,mean_squared_error,r2_score\n",
    "from sklearn.metrics import accuracy_score,confusion_matrix\n",
    "from prettytable import PrettyTable"
   ]
  },
  {
   "cell_type": "code",
   "execution_count": 1,
   "id": "e07ce97b",
   "metadata": {},
   "outputs": [
    {
     "name": "stdout",
     "output_type": "stream",
     "text": [
      "Requirement already satisfied: prettytable in c:\\users\\tanima\\anaconda3\\lib\\site-packages (3.6.0)\n",
      "Requirement already satisfied: wcwidth in c:\\users\\tanima\\anaconda3\\lib\\site-packages (from prettytable) (0.2.5)\n"
     ]
    }
   ],
   "source": [
    "!pip install prettytable"
   ]
  },
  {
   "cell_type": "code",
   "execution_count": 3,
   "id": "46a00e36",
   "metadata": {},
   "outputs": [],
   "source": [
    "#Reading the dataset\n",
    "df=pd.read_csv('AQIdata.csv',encoding='unicode_escape')"
   ]
  },
  {
   "cell_type": "code",
   "execution_count": 4,
   "id": "7c09d608",
   "metadata": {},
   "outputs": [
    {
     "data": {
      "text/html": [
       "<div>\n",
       "<style scoped>\n",
       "    .dataframe tbody tr th:only-of-type {\n",
       "        vertical-align: middle;\n",
       "    }\n",
       "\n",
       "    .dataframe tbody tr th {\n",
       "        vertical-align: top;\n",
       "    }\n",
       "\n",
       "    .dataframe thead th {\n",
       "        text-align: right;\n",
       "    }\n",
       "</style>\n",
       "<table border=\"1\" class=\"dataframe\">\n",
       "  <thead>\n",
       "    <tr style=\"text-align: right;\">\n",
       "      <th></th>\n",
       "      <th>stn_code</th>\n",
       "      <th>sampling_date</th>\n",
       "      <th>state</th>\n",
       "      <th>location</th>\n",
       "      <th>agency</th>\n",
       "      <th>type</th>\n",
       "      <th>so2</th>\n",
       "      <th>no2</th>\n",
       "      <th>rspm</th>\n",
       "      <th>spm</th>\n",
       "      <th>location_monitoring_station</th>\n",
       "      <th>pm2_5</th>\n",
       "      <th>date</th>\n",
       "    </tr>\n",
       "  </thead>\n",
       "  <tbody>\n",
       "    <tr>\n",
       "      <th>0</th>\n",
       "      <td>150.0</td>\n",
       "      <td>February - M021990</td>\n",
       "      <td>Andhra Pradesh</td>\n",
       "      <td>Hyderabad</td>\n",
       "      <td>NaN</td>\n",
       "      <td>Residential, Rural and other Areas</td>\n",
       "      <td>4.8</td>\n",
       "      <td>17.4</td>\n",
       "      <td>NaN</td>\n",
       "      <td>NaN</td>\n",
       "      <td>NaN</td>\n",
       "      <td>NaN</td>\n",
       "      <td>1990-02-01</td>\n",
       "    </tr>\n",
       "    <tr>\n",
       "      <th>1</th>\n",
       "      <td>151.0</td>\n",
       "      <td>February - M021990</td>\n",
       "      <td>Andhra Pradesh</td>\n",
       "      <td>Hyderabad</td>\n",
       "      <td>NaN</td>\n",
       "      <td>Industrial Area</td>\n",
       "      <td>3.1</td>\n",
       "      <td>7.0</td>\n",
       "      <td>NaN</td>\n",
       "      <td>NaN</td>\n",
       "      <td>NaN</td>\n",
       "      <td>NaN</td>\n",
       "      <td>1990-02-01</td>\n",
       "    </tr>\n",
       "    <tr>\n",
       "      <th>2</th>\n",
       "      <td>152.0</td>\n",
       "      <td>February - M021990</td>\n",
       "      <td>Andhra Pradesh</td>\n",
       "      <td>Hyderabad</td>\n",
       "      <td>NaN</td>\n",
       "      <td>Residential, Rural and other Areas</td>\n",
       "      <td>6.2</td>\n",
       "      <td>28.5</td>\n",
       "      <td>NaN</td>\n",
       "      <td>NaN</td>\n",
       "      <td>NaN</td>\n",
       "      <td>NaN</td>\n",
       "      <td>1990-02-01</td>\n",
       "    </tr>\n",
       "    <tr>\n",
       "      <th>3</th>\n",
       "      <td>150.0</td>\n",
       "      <td>March - M031990</td>\n",
       "      <td>Andhra Pradesh</td>\n",
       "      <td>Hyderabad</td>\n",
       "      <td>NaN</td>\n",
       "      <td>Residential, Rural and other Areas</td>\n",
       "      <td>6.3</td>\n",
       "      <td>14.7</td>\n",
       "      <td>NaN</td>\n",
       "      <td>NaN</td>\n",
       "      <td>NaN</td>\n",
       "      <td>NaN</td>\n",
       "      <td>1990-03-01</td>\n",
       "    </tr>\n",
       "    <tr>\n",
       "      <th>4</th>\n",
       "      <td>151.0</td>\n",
       "      <td>March - M031990</td>\n",
       "      <td>Andhra Pradesh</td>\n",
       "      <td>Hyderabad</td>\n",
       "      <td>NaN</td>\n",
       "      <td>Industrial Area</td>\n",
       "      <td>4.7</td>\n",
       "      <td>7.5</td>\n",
       "      <td>NaN</td>\n",
       "      <td>NaN</td>\n",
       "      <td>NaN</td>\n",
       "      <td>NaN</td>\n",
       "      <td>1990-03-01</td>\n",
       "    </tr>\n",
       "  </tbody>\n",
       "</table>\n",
       "</div>"
      ],
      "text/plain": [
       "  stn_code       sampling_date           state   location agency  \\\n",
       "0    150.0  February - M021990  Andhra Pradesh  Hyderabad    NaN   \n",
       "1    151.0  February - M021990  Andhra Pradesh  Hyderabad    NaN   \n",
       "2    152.0  February - M021990  Andhra Pradesh  Hyderabad    NaN   \n",
       "3    150.0     March - M031990  Andhra Pradesh  Hyderabad    NaN   \n",
       "4    151.0     March - M031990  Andhra Pradesh  Hyderabad    NaN   \n",
       "\n",
       "                                 type  so2   no2  rspm  spm  \\\n",
       "0  Residential, Rural and other Areas  4.8  17.4   NaN  NaN   \n",
       "1                     Industrial Area  3.1   7.0   NaN  NaN   \n",
       "2  Residential, Rural and other Areas  6.2  28.5   NaN  NaN   \n",
       "3  Residential, Rural and other Areas  6.3  14.7   NaN  NaN   \n",
       "4                     Industrial Area  4.7   7.5   NaN  NaN   \n",
       "\n",
       "  location_monitoring_station  pm2_5        date  \n",
       "0                         NaN    NaN  1990-02-01  \n",
       "1                         NaN    NaN  1990-02-01  \n",
       "2                         NaN    NaN  1990-02-01  \n",
       "3                         NaN    NaN  1990-03-01  \n",
       "4                         NaN    NaN  1990-03-01  "
      ]
     },
     "execution_count": 4,
     "metadata": {},
     "output_type": "execute_result"
    }
   ],
   "source": [
    "#Loading the dataset\n",
    "df.head()"
   ]
  },
  {
   "cell_type": "code",
   "execution_count": 5,
   "id": "f36dd1f8",
   "metadata": {},
   "outputs": [
    {
     "data": {
      "text/plain": [
       "(435742, 13)"
      ]
     },
     "execution_count": 5,
     "metadata": {},
     "output_type": "execute_result"
    }
   ],
   "source": [
    "df.shape\n",
    "# As we can see that there are 45742 rows and 13 columns in the dataset"
   ]
  },
  {
   "cell_type": "code",
   "execution_count": 6,
   "id": "9daed7f2",
   "metadata": {},
   "outputs": [
    {
     "name": "stdout",
     "output_type": "stream",
     "text": [
      "<class 'pandas.core.frame.DataFrame'>\n",
      "RangeIndex: 435742 entries, 0 to 435741\n",
      "Data columns (total 13 columns):\n",
      " #   Column                       Non-Null Count   Dtype  \n",
      "---  ------                       --------------   -----  \n",
      " 0   stn_code                     291665 non-null  object \n",
      " 1   sampling_date                435739 non-null  object \n",
      " 2   state                        435742 non-null  object \n",
      " 3   location                     435739 non-null  object \n",
      " 4   agency                       286261 non-null  object \n",
      " 5   type                         430349 non-null  object \n",
      " 6   so2                          401096 non-null  float64\n",
      " 7   no2                          419509 non-null  float64\n",
      " 8   rspm                         395520 non-null  float64\n",
      " 9   spm                          198355 non-null  float64\n",
      " 10  location_monitoring_station  408251 non-null  object \n",
      " 11  pm2_5                        9314 non-null    float64\n",
      " 12  date                         435735 non-null  object \n",
      "dtypes: float64(5), object(8)\n",
      "memory usage: 43.2+ MB\n"
     ]
    }
   ],
   "source": [
    "# Checking the overall information on the dataset\n",
    "df.info()"
   ]
  },
  {
   "cell_type": "code",
   "execution_count": 7,
   "id": "3bae458d",
   "metadata": {},
   "outputs": [
    {
     "data": {
      "text/plain": [
       "stn_code                       144077\n",
       "sampling_date                       3\n",
       "state                               0\n",
       "location                            3\n",
       "agency                         149481\n",
       "type                             5393\n",
       "so2                             34646\n",
       "no2                             16233\n",
       "rspm                            40222\n",
       "spm                            237387\n",
       "location_monitoring_station     27491\n",
       "pm2_5                          426428\n",
       "date                                7\n",
       "dtype: int64"
      ]
     },
     "execution_count": 7,
     "metadata": {},
     "output_type": "execute_result"
    }
   ],
   "source": [
    "df.isnull().sum()\n",
    "# There are a lot of missing values present in the dataset"
   ]
  },
  {
   "cell_type": "code",
   "execution_count": 8,
   "id": "6046377b",
   "metadata": {},
   "outputs": [
    {
     "data": {
      "text/html": [
       "<div>\n",
       "<style scoped>\n",
       "    .dataframe tbody tr th:only-of-type {\n",
       "        vertical-align: middle;\n",
       "    }\n",
       "\n",
       "    .dataframe tbody tr th {\n",
       "        vertical-align: top;\n",
       "    }\n",
       "\n",
       "    .dataframe thead th {\n",
       "        text-align: right;\n",
       "    }\n",
       "</style>\n",
       "<table border=\"1\" class=\"dataframe\">\n",
       "  <thead>\n",
       "    <tr style=\"text-align: right;\">\n",
       "      <th></th>\n",
       "      <th>so2</th>\n",
       "      <th>no2</th>\n",
       "      <th>rspm</th>\n",
       "      <th>spm</th>\n",
       "      <th>pm2_5</th>\n",
       "    </tr>\n",
       "  </thead>\n",
       "  <tbody>\n",
       "    <tr>\n",
       "      <th>count</th>\n",
       "      <td>401096.000000</td>\n",
       "      <td>419509.000000</td>\n",
       "      <td>395520.000000</td>\n",
       "      <td>198355.000000</td>\n",
       "      <td>9314.000000</td>\n",
       "    </tr>\n",
       "    <tr>\n",
       "      <th>mean</th>\n",
       "      <td>10.829414</td>\n",
       "      <td>25.809623</td>\n",
       "      <td>108.832784</td>\n",
       "      <td>220.783480</td>\n",
       "      <td>40.791467</td>\n",
       "    </tr>\n",
       "    <tr>\n",
       "      <th>std</th>\n",
       "      <td>11.177187</td>\n",
       "      <td>18.503086</td>\n",
       "      <td>74.872430</td>\n",
       "      <td>151.395457</td>\n",
       "      <td>30.832525</td>\n",
       "    </tr>\n",
       "    <tr>\n",
       "      <th>min</th>\n",
       "      <td>0.000000</td>\n",
       "      <td>0.000000</td>\n",
       "      <td>0.000000</td>\n",
       "      <td>0.000000</td>\n",
       "      <td>3.000000</td>\n",
       "    </tr>\n",
       "    <tr>\n",
       "      <th>25%</th>\n",
       "      <td>5.000000</td>\n",
       "      <td>14.000000</td>\n",
       "      <td>56.000000</td>\n",
       "      <td>111.000000</td>\n",
       "      <td>24.000000</td>\n",
       "    </tr>\n",
       "    <tr>\n",
       "      <th>50%</th>\n",
       "      <td>8.000000</td>\n",
       "      <td>22.000000</td>\n",
       "      <td>90.000000</td>\n",
       "      <td>187.000000</td>\n",
       "      <td>32.000000</td>\n",
       "    </tr>\n",
       "    <tr>\n",
       "      <th>75%</th>\n",
       "      <td>13.700000</td>\n",
       "      <td>32.200000</td>\n",
       "      <td>142.000000</td>\n",
       "      <td>296.000000</td>\n",
       "      <td>46.000000</td>\n",
       "    </tr>\n",
       "    <tr>\n",
       "      <th>max</th>\n",
       "      <td>909.000000</td>\n",
       "      <td>876.000000</td>\n",
       "      <td>6307.033333</td>\n",
       "      <td>3380.000000</td>\n",
       "      <td>504.000000</td>\n",
       "    </tr>\n",
       "  </tbody>\n",
       "</table>\n",
       "</div>"
      ],
      "text/plain": [
       "                 so2            no2           rspm            spm        pm2_5\n",
       "count  401096.000000  419509.000000  395520.000000  198355.000000  9314.000000\n",
       "mean       10.829414      25.809623     108.832784     220.783480    40.791467\n",
       "std        11.177187      18.503086      74.872430     151.395457    30.832525\n",
       "min         0.000000       0.000000       0.000000       0.000000     3.000000\n",
       "25%         5.000000      14.000000      56.000000     111.000000    24.000000\n",
       "50%         8.000000      22.000000      90.000000     187.000000    32.000000\n",
       "75%        13.700000      32.200000     142.000000     296.000000    46.000000\n",
       "max       909.000000     876.000000    6307.033333    3380.000000   504.000000"
      ]
     },
     "execution_count": 8,
     "metadata": {},
     "output_type": "execute_result"
    }
   ],
   "source": [
    "# Checking the descriptive stats of the numeric values present in the data like mean,standard deviation,min values and max values present in the data.\n",
    "df.describe()"
   ]
  },
  {
   "cell_type": "code",
   "execution_count": 9,
   "id": "5a3dc6a6",
   "metadata": {},
   "outputs": [
    {
     "data": {
      "text/plain": [
       "stn_code                        803\n",
       "sampling_date                  5485\n",
       "state                            37\n",
       "location                        304\n",
       "agency                           64\n",
       "type                             10\n",
       "so2                            4197\n",
       "no2                            6864\n",
       "rspm                           6065\n",
       "spm                            6668\n",
       "location_monitoring_station     991\n",
       "pm2_5                           433\n",
       "date                           5067\n",
       "dtype: int64"
      ]
     },
     "execution_count": 9,
     "metadata": {},
     "output_type": "execute_result"
    }
   ],
   "source": [
    "# These are all the unique values present in the dataframe\n",
    "df.nunique()"
   ]
  },
  {
   "cell_type": "code",
   "execution_count": 10,
   "id": "801c4ed7",
   "metadata": {},
   "outputs": [
    {
     "data": {
      "text/plain": [
       "Index(['stn_code', 'sampling_date', 'state', 'location', 'agency', 'type',\n",
       "       'so2', 'no2', 'rspm', 'spm', 'location_monitoring_station', 'pm2_5',\n",
       "       'date'],\n",
       "      dtype='object')"
      ]
     },
     "execution_count": 10,
     "metadata": {},
     "output_type": "execute_result"
    }
   ],
   "source": [
    "df.columns\n",
    "# These are all columns present in the dataset"
   ]
  },
  {
   "cell_type": "code",
   "execution_count": 11,
   "id": "01499e8f",
   "metadata": {},
   "outputs": [],
   "source": [
    "# Data Visualization"
   ]
  },
  {
   "cell_type": "code",
   "execution_count": 12,
   "id": "c99de7e6",
   "metadata": {},
   "outputs": [
    {
     "data": {
      "text/plain": [
       "<seaborn.axisgrid.PairGrid at 0x22200039df0>"
      ]
     },
     "execution_count": 12,
     "metadata": {},
     "output_type": "execute_result"
    },
    {
     "data": {
      "image/png": "[encoded data removed]",
      "text/plain": [
       "<Figure size 1250x1250 with 30 Axes>"
      ]
     },
     "metadata": {},
     "output_type": "display_data"
    }
   ],
   "source": [
    "sns.pairplot(data=df)"
   ]
  },
  {
   "cell_type": "code",
   "execution_count": 13,
   "id": "4325b00f",
   "metadata": {},
   "outputs": [],
   "source": [
    "# Checking all nullvalues and treating those null values"
   ]
  },
  {
   "cell_type": "code",
   "execution_count": 14,
   "id": "12e3db01",
   "metadata": {},
   "outputs": [],
   "source": [
    "# Checking all null values\n",
    "nullvalues=df.isnull().sum().sort_values(ascending=False)"
   ]
  },
  {
   "cell_type": "code",
   "execution_count": 15,
   "id": "a9f08704",
   "metadata": {},
   "outputs": [
    {
     "data": {
      "text/plain": [
       "pm2_5                          426428\n",
       "spm                            237387\n",
       "agency                         149481\n",
       "stn_code                       144077\n",
       "rspm                            40222\n",
       "so2                             34646\n",
       "location_monitoring_station     27491\n",
       "no2                             16233\n",
       "type                             5393\n",
       "date                                7\n",
       "sampling_date                       3\n",
       "location                            3\n",
       "state                               0\n",
       "dtype: int64"
      ]
     },
     "execution_count": 15,
     "metadata": {},
     "output_type": "execute_result"
    }
   ],
   "source": [
    "nullvalues\n",
    "# Higher null values present in pm2_5 followed by spm"
   ]
  },
  {
   "cell_type": "code",
   "execution_count": 16,
   "id": "c753772d",
   "metadata": {},
   "outputs": [],
   "source": [
    "null_values_percentage = (df.isnull().sum()/df.isnull().count()*100).sort_values(ascending= False)\n",
    "# Count (returns non-NAN value)"
   ]
  },
  {
   "cell_type": "code",
   "execution_count": 17,
   "id": "f734a659",
   "metadata": {},
   "outputs": [],
   "source": [
    "missing_data_with_percentage = pd.concat([nullvalues, null_values_percentage], axis=1, keys=['Total', 'Percentage'])\n",
    "# Concatenating total null values and their percentage of missing values for further imputation or column deletion"
   ]
  },
  {
   "cell_type": "code",
   "execution_count": 18,
   "id": "db613ff2",
   "metadata": {},
   "outputs": [
    {
     "data": {
      "text/html": [
       "<div>\n",
       "<style scoped>\n",
       "    .dataframe tbody tr th:only-of-type {\n",
       "        vertical-align: middle;\n",
       "    }\n",
       "\n",
       "    .dataframe tbody tr th {\n",
       "        vertical-align: top;\n",
       "    }\n",
       "\n",
       "    .dataframe thead th {\n",
       "        text-align: right;\n",
       "    }\n",
       "</style>\n",
       "<table border=\"1\" class=\"dataframe\">\n",
       "  <thead>\n",
       "    <tr style=\"text-align: right;\">\n",
       "      <th></th>\n",
       "      <th>Total</th>\n",
       "      <th>Percentage</th>\n",
       "    </tr>\n",
       "  </thead>\n",
       "  <tbody>\n",
       "    <tr>\n",
       "      <th>pm2_5</th>\n",
       "      <td>426428</td>\n",
       "      <td>97.862497</td>\n",
       "    </tr>\n",
       "    <tr>\n",
       "      <th>spm</th>\n",
       "      <td>237387</td>\n",
       "      <td>54.478797</td>\n",
       "    </tr>\n",
       "    <tr>\n",
       "      <th>agency</th>\n",
       "      <td>149481</td>\n",
       "      <td>34.304933</td>\n",
       "    </tr>\n",
       "    <tr>\n",
       "      <th>stn_code</th>\n",
       "      <td>144077</td>\n",
       "      <td>33.064749</td>\n",
       "    </tr>\n",
       "    <tr>\n",
       "      <th>rspm</th>\n",
       "      <td>40222</td>\n",
       "      <td>9.230692</td>\n",
       "    </tr>\n",
       "    <tr>\n",
       "      <th>so2</th>\n",
       "      <td>34646</td>\n",
       "      <td>7.951035</td>\n",
       "    </tr>\n",
       "    <tr>\n",
       "      <th>location_monitoring_station</th>\n",
       "      <td>27491</td>\n",
       "      <td>6.309009</td>\n",
       "    </tr>\n",
       "    <tr>\n",
       "      <th>no2</th>\n",
       "      <td>16233</td>\n",
       "      <td>3.725370</td>\n",
       "    </tr>\n",
       "    <tr>\n",
       "      <th>type</th>\n",
       "      <td>5393</td>\n",
       "      <td>1.237659</td>\n",
       "    </tr>\n",
       "    <tr>\n",
       "      <th>date</th>\n",
       "      <td>7</td>\n",
       "      <td>0.001606</td>\n",
       "    </tr>\n",
       "    <tr>\n",
       "      <th>sampling_date</th>\n",
       "      <td>3</td>\n",
       "      <td>0.000688</td>\n",
       "    </tr>\n",
       "    <tr>\n",
       "      <th>location</th>\n",
       "      <td>3</td>\n",
       "      <td>0.000688</td>\n",
       "    </tr>\n",
       "    <tr>\n",
       "      <th>state</th>\n",
       "      <td>0</td>\n",
       "      <td>0.000000</td>\n",
       "    </tr>\n",
       "  </tbody>\n",
       "</table>\n",
       "</div>"
      ],
      "text/plain": [
       "                              Total  Percentage\n",
       "pm2_5                        426428   97.862497\n",
       "spm                          237387   54.478797\n",
       "agency                       149481   34.304933\n",
       "stn_code                     144077   33.064749\n",
       "rspm                          40222    9.230692\n",
       "so2                           34646    7.951035\n",
       "location_monitoring_station   27491    6.309009\n",
       "no2                           16233    3.725370\n",
       "type                           5393    1.237659\n",
       "date                              7    0.001606\n",
       "sampling_date                     3    0.000688\n",
       "location                          3    0.000688\n",
       "state                             0    0.000000"
      ]
     },
     "execution_count": 18,
     "metadata": {},
     "output_type": "execute_result"
    }
   ],
   "source": [
    "missing_data_with_percentage\n",
    "# Percentage of null values present in the dataset"
   ]
  },
  {
   "cell_type": "code",
   "execution_count": 19,
   "id": "8ba8add0",
   "metadata": {},
   "outputs": [],
   "source": [
    "# Dropping unnecessary columns\n",
    "df.drop(['agency'],axis=1,inplace=True)\n",
    "df.drop(['stn_code'],axis=1,inplace=True)\n",
    "df.drop(['date'],axis=1,inplace=True)\n",
    "df.drop(['sampling_date'],axis=1,inplace=True)\n",
    "df.drop(['location_monitoring_station'],axis=1,inplace=True)"
   ]
  },
  {
   "cell_type": "code",
   "execution_count": 20,
   "id": "4ab9ac18",
   "metadata": {},
   "outputs": [
    {
     "data": {
      "text/plain": [
       "state            0\n",
       "location         3\n",
       "type          5393\n",
       "so2          34646\n",
       "no2          16233\n",
       "rspm         40222\n",
       "spm         237387\n",
       "pm2_5       426428\n",
       "dtype: int64"
      ]
     },
     "execution_count": 20,
     "metadata": {},
     "output_type": "execute_result"
    }
   ],
   "source": [
    "# Now checking the null values\n",
    "df.isnull().sum()"
   ]
  },
  {
   "cell_type": "code",
   "execution_count": 21,
   "id": "2d0fd258",
   "metadata": {},
   "outputs": [
    {
     "data": {
      "text/html": [
       "<div>\n",
       "<style scoped>\n",
       "    .dataframe tbody tr th:only-of-type {\n",
       "        vertical-align: middle;\n",
       "    }\n",
       "\n",
       "    .dataframe tbody tr th {\n",
       "        vertical-align: top;\n",
       "    }\n",
       "\n",
       "    .dataframe thead th {\n",
       "        text-align: right;\n",
       "    }\n",
       "</style>\n",
       "<table border=\"1\" class=\"dataframe\">\n",
       "  <thead>\n",
       "    <tr style=\"text-align: right;\">\n",
       "      <th></th>\n",
       "      <th>state</th>\n",
       "      <th>location</th>\n",
       "      <th>type</th>\n",
       "      <th>so2</th>\n",
       "      <th>no2</th>\n",
       "      <th>rspm</th>\n",
       "      <th>spm</th>\n",
       "      <th>pm2_5</th>\n",
       "    </tr>\n",
       "  </thead>\n",
       "  <tbody>\n",
       "    <tr>\n",
       "      <th>0</th>\n",
       "      <td>Andhra Pradesh</td>\n",
       "      <td>Hyderabad</td>\n",
       "      <td>Residential, Rural and other Areas</td>\n",
       "      <td>4.8</td>\n",
       "      <td>17.4</td>\n",
       "      <td>NaN</td>\n",
       "      <td>NaN</td>\n",
       "      <td>NaN</td>\n",
       "    </tr>\n",
       "    <tr>\n",
       "      <th>1</th>\n",
       "      <td>Andhra Pradesh</td>\n",
       "      <td>Hyderabad</td>\n",
       "      <td>Industrial Area</td>\n",
       "      <td>3.1</td>\n",
       "      <td>7.0</td>\n",
       "      <td>NaN</td>\n",
       "      <td>NaN</td>\n",
       "      <td>NaN</td>\n",
       "    </tr>\n",
       "    <tr>\n",
       "      <th>2</th>\n",
       "      <td>Andhra Pradesh</td>\n",
       "      <td>Hyderabad</td>\n",
       "      <td>Residential, Rural and other Areas</td>\n",
       "      <td>6.2</td>\n",
       "      <td>28.5</td>\n",
       "      <td>NaN</td>\n",
       "      <td>NaN</td>\n",
       "      <td>NaN</td>\n",
       "    </tr>\n",
       "    <tr>\n",
       "      <th>3</th>\n",
       "      <td>Andhra Pradesh</td>\n",
       "      <td>Hyderabad</td>\n",
       "      <td>Residential, Rural and other Areas</td>\n",
       "      <td>6.3</td>\n",
       "      <td>14.7</td>\n",
       "      <td>NaN</td>\n",
       "      <td>NaN</td>\n",
       "      <td>NaN</td>\n",
       "    </tr>\n",
       "    <tr>\n",
       "      <th>4</th>\n",
       "      <td>Andhra Pradesh</td>\n",
       "      <td>Hyderabad</td>\n",
       "      <td>Industrial Area</td>\n",
       "      <td>4.7</td>\n",
       "      <td>7.5</td>\n",
       "      <td>NaN</td>\n",
       "      <td>NaN</td>\n",
       "      <td>NaN</td>\n",
       "    </tr>\n",
       "    <tr>\n",
       "      <th>...</th>\n",
       "      <td>...</td>\n",
       "      <td>...</td>\n",
       "      <td>...</td>\n",
       "      <td>...</td>\n",
       "      <td>...</td>\n",
       "      <td>...</td>\n",
       "      <td>...</td>\n",
       "      <td>...</td>\n",
       "    </tr>\n",
       "    <tr>\n",
       "      <th>435737</th>\n",
       "      <td>West Bengal</td>\n",
       "      <td>ULUBERIA</td>\n",
       "      <td>RIRUO</td>\n",
       "      <td>22.0</td>\n",
       "      <td>50.0</td>\n",
       "      <td>143.0</td>\n",
       "      <td>NaN</td>\n",
       "      <td>NaN</td>\n",
       "    </tr>\n",
       "    <tr>\n",
       "      <th>435738</th>\n",
       "      <td>West Bengal</td>\n",
       "      <td>ULUBERIA</td>\n",
       "      <td>RIRUO</td>\n",
       "      <td>20.0</td>\n",
       "      <td>46.0</td>\n",
       "      <td>171.0</td>\n",
       "      <td>NaN</td>\n",
       "      <td>NaN</td>\n",
       "    </tr>\n",
       "    <tr>\n",
       "      <th>435739</th>\n",
       "      <td>andaman-and-nicobar-islands</td>\n",
       "      <td>NaN</td>\n",
       "      <td>NaN</td>\n",
       "      <td>NaN</td>\n",
       "      <td>NaN</td>\n",
       "      <td>NaN</td>\n",
       "      <td>NaN</td>\n",
       "      <td>NaN</td>\n",
       "    </tr>\n",
       "    <tr>\n",
       "      <th>435740</th>\n",
       "      <td>Lakshadweep</td>\n",
       "      <td>NaN</td>\n",
       "      <td>NaN</td>\n",
       "      <td>NaN</td>\n",
       "      <td>NaN</td>\n",
       "      <td>NaN</td>\n",
       "      <td>NaN</td>\n",
       "      <td>NaN</td>\n",
       "    </tr>\n",
       "    <tr>\n",
       "      <th>435741</th>\n",
       "      <td>Tripura</td>\n",
       "      <td>NaN</td>\n",
       "      <td>NaN</td>\n",
       "      <td>NaN</td>\n",
       "      <td>NaN</td>\n",
       "      <td>NaN</td>\n",
       "      <td>NaN</td>\n",
       "      <td>NaN</td>\n",
       "    </tr>\n",
       "  </tbody>\n",
       "</table>\n",
       "<p>435742 rows × 8 columns</p>\n",
       "</div>"
      ],
      "text/plain": [
       "                              state   location  \\\n",
       "0                    Andhra Pradesh  Hyderabad   \n",
       "1                    Andhra Pradesh  Hyderabad   \n",
       "2                    Andhra Pradesh  Hyderabad   \n",
       "3                    Andhra Pradesh  Hyderabad   \n",
       "4                    Andhra Pradesh  Hyderabad   \n",
       "...                             ...        ...   \n",
       "435737                  West Bengal   ULUBERIA   \n",
       "435738                  West Bengal   ULUBERIA   \n",
       "435739  andaman-and-nicobar-islands        NaN   \n",
       "435740                  Lakshadweep        NaN   \n",
       "435741                      Tripura        NaN   \n",
       "\n",
       "                                      type   so2   no2   rspm  spm  pm2_5  \n",
       "0       Residential, Rural and other Areas   4.8  17.4    NaN  NaN    NaN  \n",
       "1                          Industrial Area   3.1   7.0    NaN  NaN    NaN  \n",
       "2       Residential, Rural and other Areas   6.2  28.5    NaN  NaN    NaN  \n",
       "3       Residential, Rural and other Areas   6.3  14.7    NaN  NaN    NaN  \n",
       "4                          Industrial Area   4.7   7.5    NaN  NaN    NaN  \n",
       "...                                    ...   ...   ...    ...  ...    ...  \n",
       "435737                               RIRUO  22.0  50.0  143.0  NaN    NaN  \n",
       "435738                               RIRUO  20.0  46.0  171.0  NaN    NaN  \n",
       "435739                                 NaN   NaN   NaN    NaN  NaN    NaN  \n",
       "435740                                 NaN   NaN   NaN    NaN  NaN    NaN  \n",
       "435741                                 NaN   NaN   NaN    NaN  NaN    NaN  \n",
       "\n",
       "[435742 rows x 8 columns]"
      ]
     },
     "execution_count": 21,
     "metadata": {},
     "output_type": "execute_result"
    }
   ],
   "source": [
    "df"
   ]
  },
  {
   "cell_type": "code",
   "execution_count": 22,
   "id": "d9902d7d",
   "metadata": {},
   "outputs": [],
   "source": [
    "# null value imputation for catagorical data\n",
    "df['location']=df['location'].fillna(df['location'].mode()[0])\n",
    "df['type']=df['type'].fillna(df['type'].mode()[0])"
   ]
  },
  {
   "cell_type": "code",
   "execution_count": 23,
   "id": "7528a421",
   "metadata": {},
   "outputs": [],
   "source": [
    "# null values are replaced with zeros for the numerical data\n",
    "df.fillna(0, inplace=True)"
   ]
  },
  {
   "cell_type": "code",
   "execution_count": 24,
   "id": "af73bc8f",
   "metadata": {},
   "outputs": [
    {
     "data": {
      "text/plain": [
       "state       0\n",
       "location    0\n",
       "type        0\n",
       "so2         0\n",
       "no2         0\n",
       "rspm        0\n",
       "spm         0\n",
       "pm2_5       0\n",
       "dtype: int64"
      ]
     },
     "execution_count": 24,
     "metadata": {},
     "output_type": "execute_result"
    }
   ],
   "source": [
    "# now we have successfully imputed null values which were present in the dataset\n",
    "df.isnull().sum()"
   ]
  },
  {
   "cell_type": "code",
   "execution_count": 25,
   "id": "c031b959",
   "metadata": {},
   "outputs": [],
   "source": [
    "# Function to calculate so2 individual pollutant index(si)"
   ]
  },
  {
   "cell_type": "code",
   "execution_count": 26,
   "id": "614a3448",
   "metadata": {},
   "outputs": [
    {
     "data": {
      "text/html": [
       "<div>\n",
       "<style scoped>\n",
       "    .dataframe tbody tr th:only-of-type {\n",
       "        vertical-align: middle;\n",
       "    }\n",
       "\n",
       "    .dataframe tbody tr th {\n",
       "        vertical-align: top;\n",
       "    }\n",
       "\n",
       "    .dataframe thead th {\n",
       "        text-align: right;\n",
       "    }\n",
       "</style>\n",
       "<table border=\"1\" class=\"dataframe\">\n",
       "  <thead>\n",
       "    <tr style=\"text-align: right;\">\n",
       "      <th></th>\n",
       "      <th>so2</th>\n",
       "      <th>SOi</th>\n",
       "    </tr>\n",
       "  </thead>\n",
       "  <tbody>\n",
       "    <tr>\n",
       "      <th>0</th>\n",
       "      <td>4.8</td>\n",
       "      <td>6.000</td>\n",
       "    </tr>\n",
       "    <tr>\n",
       "      <th>1</th>\n",
       "      <td>3.1</td>\n",
       "      <td>3.875</td>\n",
       "    </tr>\n",
       "    <tr>\n",
       "      <th>2</th>\n",
       "      <td>6.2</td>\n",
       "      <td>7.750</td>\n",
       "    </tr>\n",
       "    <tr>\n",
       "      <th>3</th>\n",
       "      <td>6.3</td>\n",
       "      <td>7.875</td>\n",
       "    </tr>\n",
       "    <tr>\n",
       "      <th>4</th>\n",
       "      <td>4.7</td>\n",
       "      <td>5.875</td>\n",
       "    </tr>\n",
       "  </tbody>\n",
       "</table>\n",
       "</div>"
      ],
      "text/plain": [
       "   so2    SOi\n",
       "0  4.8  6.000\n",
       "1  3.1  3.875\n",
       "2  6.2  7.750\n",
       "3  6.3  7.875\n",
       "4  4.7  5.875"
      ]
     },
     "execution_count": 26,
     "metadata": {},
     "output_type": "execute_result"
    }
   ],
   "source": [
    "def cal_SOi(so2):\n",
    "    si=0\n",
    "    if (so2<=40):\n",
    "        si=so2*(50/40)\n",
    "    elif(so2>40 and so2<=80):\n",
    "        si=50+(so2-40)*(50/40)\n",
    "    elif(so2>80 and so2<=380):\n",
    "        si=100+(so2-80)*(100/300)\n",
    "    elif(so2>380 and so2<=800):\n",
    "        si=200+(so2-380)*(100/420)\n",
    "    elif(so2>800 and so2<1600):\n",
    "        si=300+(so2-800)*(100/800)\n",
    "    elif(so2>1600):\n",
    "        si=400+(so2-1600)*(100/800)\n",
    "    return si\n",
    "df['SOi']=df['so2'].apply(cal_SOi)\n",
    "data= df[['so2','SOi']]\n",
    "data.head()\n",
    "# calculating the individual pollutant index for so2(Sulphur dioxide)"
   ]
  },
  {
   "cell_type": "code",
   "execution_count": 27,
   "id": "238233db",
   "metadata": {},
   "outputs": [],
   "source": [
    "# Function to calculate no2 individual pollutant index(ni)"
   ]
  },
  {
   "cell_type": "code",
   "execution_count": 28,
   "id": "8cf5d26f",
   "metadata": {},
   "outputs": [
    {
     "data": {
      "text/html": [
       "<div>\n",
       "<style scoped>\n",
       "    .dataframe tbody tr th:only-of-type {\n",
       "        vertical-align: middle;\n",
       "    }\n",
       "\n",
       "    .dataframe tbody tr th {\n",
       "        vertical-align: top;\n",
       "    }\n",
       "\n",
       "    .dataframe thead th {\n",
       "        text-align: right;\n",
       "    }\n",
       "</style>\n",
       "<table border=\"1\" class=\"dataframe\">\n",
       "  <thead>\n",
       "    <tr style=\"text-align: right;\">\n",
       "      <th></th>\n",
       "      <th>no2</th>\n",
       "      <th>NOi</th>\n",
       "    </tr>\n",
       "  </thead>\n",
       "  <tbody>\n",
       "    <tr>\n",
       "      <th>0</th>\n",
       "      <td>17.4</td>\n",
       "      <td>21.750</td>\n",
       "    </tr>\n",
       "    <tr>\n",
       "      <th>1</th>\n",
       "      <td>7.0</td>\n",
       "      <td>8.750</td>\n",
       "    </tr>\n",
       "    <tr>\n",
       "      <th>2</th>\n",
       "      <td>28.5</td>\n",
       "      <td>35.625</td>\n",
       "    </tr>\n",
       "    <tr>\n",
       "      <th>3</th>\n",
       "      <td>14.7</td>\n",
       "      <td>18.375</td>\n",
       "    </tr>\n",
       "    <tr>\n",
       "      <th>4</th>\n",
       "      <td>7.5</td>\n",
       "      <td>9.375</td>\n",
       "    </tr>\n",
       "  </tbody>\n",
       "</table>\n",
       "</div>"
      ],
      "text/plain": [
       "    no2     NOi\n",
       "0  17.4  21.750\n",
       "1   7.0   8.750\n",
       "2  28.5  35.625\n",
       "3  14.7  18.375\n",
       "4   7.5   9.375"
      ]
     },
     "execution_count": 28,
     "metadata": {},
     "output_type": "execute_result"
    }
   ],
   "source": [
    "def cal_NOi(no2):\n",
    "    ni=0\n",
    "    if (no2<=40):\n",
    "        ni=no2*(50/40)\n",
    "    elif(no2>40 and no2<=80):\n",
    "        ni=50+(no2-40)*(50/40)\n",
    "    elif(no2>80 and no2<=380):\n",
    "        ni=100+(no2-80)*(100/300)\n",
    "    elif(no2>380 and no2<=800):\n",
    "        ni=200+(no2-380)*(100/420)\n",
    "    elif(no2>800 and no2<1600):\n",
    "        ni=300+(no2-800)*(100/800)\n",
    "    elif(no2>1600):\n",
    "        ni=400+(no2-1600)*(100/800)\n",
    "    return ni\n",
    "df['NOi']=df['no2'].apply(cal_NOi)\n",
    "data= df[['no2','NOi']]\n",
    "data.head()\n",
    "# calculating the individual pollutant index for no2(Nitrogen dioxide)"
   ]
  },
  {
   "cell_type": "code",
   "execution_count": 29,
   "id": "ae92562e",
   "metadata": {},
   "outputs": [],
   "source": [
    "# Function to calculate rspm individual pollutant index(rpi)"
   ]
  },
  {
   "cell_type": "code",
   "execution_count": 30,
   "id": "71c404bd",
   "metadata": {},
   "outputs": [
    {
     "data": {
      "text/html": [
       "<div>\n",
       "<style scoped>\n",
       "    .dataframe tbody tr th:only-of-type {\n",
       "        vertical-align: middle;\n",
       "    }\n",
       "\n",
       "    .dataframe tbody tr th {\n",
       "        vertical-align: top;\n",
       "    }\n",
       "\n",
       "    .dataframe thead th {\n",
       "        text-align: right;\n",
       "    }\n",
       "</style>\n",
       "<table border=\"1\" class=\"dataframe\">\n",
       "  <thead>\n",
       "    <tr style=\"text-align: right;\">\n",
       "      <th></th>\n",
       "      <th>rspm</th>\n",
       "      <th>Rpi</th>\n",
       "    </tr>\n",
       "  </thead>\n",
       "  <tbody>\n",
       "    <tr>\n",
       "      <th>0</th>\n",
       "      <td>0.0</td>\n",
       "      <td>0.0</td>\n",
       "    </tr>\n",
       "    <tr>\n",
       "      <th>1</th>\n",
       "      <td>0.0</td>\n",
       "      <td>0.0</td>\n",
       "    </tr>\n",
       "    <tr>\n",
       "      <th>2</th>\n",
       "      <td>0.0</td>\n",
       "      <td>0.0</td>\n",
       "    </tr>\n",
       "    <tr>\n",
       "      <th>3</th>\n",
       "      <td>0.0</td>\n",
       "      <td>0.0</td>\n",
       "    </tr>\n",
       "    <tr>\n",
       "      <th>4</th>\n",
       "      <td>0.0</td>\n",
       "      <td>0.0</td>\n",
       "    </tr>\n",
       "  </tbody>\n",
       "</table>\n",
       "</div>"
      ],
      "text/plain": [
       "   rspm  Rpi\n",
       "0   0.0  0.0\n",
       "1   0.0  0.0\n",
       "2   0.0  0.0\n",
       "3   0.0  0.0\n",
       "4   0.0  0.0"
      ]
     },
     "execution_count": 30,
     "metadata": {},
     "output_type": "execute_result"
    }
   ],
   "source": [
    "def cal_RSPMI(rspm):\n",
    "    rpi=0\n",
    "    if (rpi<=30):\n",
    "        rpi=rpi*50/30\n",
    "    elif (rpi>30 and rpi<=60):\n",
    "        rpi=50+(rpi-30)*50/30\n",
    "    elif (rpi>60 and rpi<=90):\n",
    "        rpi=100+(rpi-60)*100/30\n",
    "    elif (rpi>90 and rpi<=120):\n",
    "        rpi=200+(rpi-90)*100/30\n",
    "    elif (rpi>120 and rpi<=250):\n",
    "        rpi=300+(rpi-120)*(100/130)\n",
    "    else:\n",
    "        rpi=400(rpi-250)*(100/130)\n",
    "    return rpi\n",
    "df['Rpi']=df['rspm'].apply(cal_RSPMI)\n",
    "data= df[['rspm','Rpi']]\n",
    "data.head()\n",
    "# calculating the individual pollutant index for rspm(respirable suspended particulate matter)"
   ]
  },
  {
   "cell_type": "code",
   "execution_count": 31,
   "id": "0fbf2927",
   "metadata": {},
   "outputs": [],
   "source": [
    "# Function to calculate spm individual pollutant index(spi)"
   ]
  },
  {
   "cell_type": "code",
   "execution_count": 32,
   "id": "8774405d",
   "metadata": {},
   "outputs": [
    {
     "data": {
      "text/html": [
       "<div>\n",
       "<style scoped>\n",
       "    .dataframe tbody tr th:only-of-type {\n",
       "        vertical-align: middle;\n",
       "    }\n",
       "\n",
       "    .dataframe tbody tr th {\n",
       "        vertical-align: top;\n",
       "    }\n",
       "\n",
       "    .dataframe thead th {\n",
       "        text-align: right;\n",
       "    }\n",
       "</style>\n",
       "<table border=\"1\" class=\"dataframe\">\n",
       "  <thead>\n",
       "    <tr style=\"text-align: right;\">\n",
       "      <th></th>\n",
       "      <th>spm</th>\n",
       "      <th>SPMI</th>\n",
       "    </tr>\n",
       "  </thead>\n",
       "  <tbody>\n",
       "    <tr>\n",
       "      <th>0</th>\n",
       "      <td>0.0</td>\n",
       "      <td>0.0</td>\n",
       "    </tr>\n",
       "    <tr>\n",
       "      <th>1</th>\n",
       "      <td>0.0</td>\n",
       "      <td>0.0</td>\n",
       "    </tr>\n",
       "    <tr>\n",
       "      <th>2</th>\n",
       "      <td>0.0</td>\n",
       "      <td>0.0</td>\n",
       "    </tr>\n",
       "    <tr>\n",
       "      <th>3</th>\n",
       "      <td>0.0</td>\n",
       "      <td>0.0</td>\n",
       "    </tr>\n",
       "    <tr>\n",
       "      <th>4</th>\n",
       "      <td>0.0</td>\n",
       "      <td>0.0</td>\n",
       "    </tr>\n",
       "  </tbody>\n",
       "</table>\n",
       "</div>"
      ],
      "text/plain": [
       "   spm  SPMI\n",
       "0  0.0   0.0\n",
       "1  0.0   0.0\n",
       "2  0.0   0.0\n",
       "3  0.0   0.0\n",
       "4  0.0   0.0"
      ]
     },
     "execution_count": 32,
     "metadata": {},
     "output_type": "execute_result"
    }
   ],
   "source": [
    "def cal_SPMI(spm):\n",
    "    spi=0\n",
    "    if (spm<=50):\n",
    "        spi=spm*50/50\n",
    "    elif (spm>50 and spm<=100):\n",
    "        spi=50+(spm-50)*(50/50)\n",
    "    elif (spm>100 and spm<=250):\n",
    "        spi=100+(spm-100)*(100/150)\n",
    "    elif (spm>250 and spm<=350):\n",
    "        spi=200+(spm-250)*(100/100)\n",
    "    elif (spm>350 and spm<=430):\n",
    "        spi=300+(spm-350)*(100/80)\n",
    "    else:\n",
    "        spi=400+(spm-430)*(100/430)\n",
    "    return spi\n",
    "df['SPMI']=df['spm'].apply(cal_SPMI)\n",
    "data= df[['spm','SPMI']]\n",
    "data.head()\n",
    "# calculating the individual pollutant index for spm( suspended particulate matter)"
   ]
  },
  {
   "cell_type": "code",
   "execution_count": 33,
   "id": "d88eebaf",
   "metadata": {},
   "outputs": [],
   "source": [
    "# Function to calculate the air quality index (AQI) of every data value"
   ]
  },
  {
   "cell_type": "code",
   "execution_count": 34,
   "id": "089df8b9",
   "metadata": {},
   "outputs": [
    {
     "data": {
      "text/html": [
       "<div>\n",
       "<style scoped>\n",
       "    .dataframe tbody tr th:only-of-type {\n",
       "        vertical-align: middle;\n",
       "    }\n",
       "\n",
       "    .dataframe tbody tr th {\n",
       "        vertical-align: top;\n",
       "    }\n",
       "\n",
       "    .dataframe thead th {\n",
       "        text-align: right;\n",
       "    }\n",
       "</style>\n",
       "<table border=\"1\" class=\"dataframe\">\n",
       "  <thead>\n",
       "    <tr style=\"text-align: right;\">\n",
       "      <th></th>\n",
       "      <th>state</th>\n",
       "      <th>SOi</th>\n",
       "      <th>NOi</th>\n",
       "      <th>Rpi</th>\n",
       "      <th>SPMI</th>\n",
       "      <th>AQI</th>\n",
       "    </tr>\n",
       "  </thead>\n",
       "  <tbody>\n",
       "    <tr>\n",
       "      <th>0</th>\n",
       "      <td>Andhra Pradesh</td>\n",
       "      <td>6.000</td>\n",
       "      <td>21.750</td>\n",
       "      <td>0.0</td>\n",
       "      <td>0.0</td>\n",
       "      <td>21.750</td>\n",
       "    </tr>\n",
       "    <tr>\n",
       "      <th>1</th>\n",
       "      <td>Andhra Pradesh</td>\n",
       "      <td>3.875</td>\n",
       "      <td>8.750</td>\n",
       "      <td>0.0</td>\n",
       "      <td>0.0</td>\n",
       "      <td>8.750</td>\n",
       "    </tr>\n",
       "    <tr>\n",
       "      <th>2</th>\n",
       "      <td>Andhra Pradesh</td>\n",
       "      <td>7.750</td>\n",
       "      <td>35.625</td>\n",
       "      <td>0.0</td>\n",
       "      <td>0.0</td>\n",
       "      <td>35.625</td>\n",
       "    </tr>\n",
       "    <tr>\n",
       "      <th>3</th>\n",
       "      <td>Andhra Pradesh</td>\n",
       "      <td>7.875</td>\n",
       "      <td>18.375</td>\n",
       "      <td>0.0</td>\n",
       "      <td>0.0</td>\n",
       "      <td>18.375</td>\n",
       "    </tr>\n",
       "    <tr>\n",
       "      <th>4</th>\n",
       "      <td>Andhra Pradesh</td>\n",
       "      <td>5.875</td>\n",
       "      <td>9.375</td>\n",
       "      <td>0.0</td>\n",
       "      <td>0.0</td>\n",
       "      <td>9.375</td>\n",
       "    </tr>\n",
       "  </tbody>\n",
       "</table>\n",
       "</div>"
      ],
      "text/plain": [
       "            state    SOi     NOi  Rpi  SPMI     AQI\n",
       "0  Andhra Pradesh  6.000  21.750  0.0   0.0  21.750\n",
       "1  Andhra Pradesh  3.875   8.750  0.0   0.0   8.750\n",
       "2  Andhra Pradesh  7.750  35.625  0.0   0.0  35.625\n",
       "3  Andhra Pradesh  7.875  18.375  0.0   0.0  18.375\n",
       "4  Andhra Pradesh  5.875   9.375  0.0   0.0   9.375"
      ]
     },
     "execution_count": 34,
     "metadata": {},
     "output_type": "execute_result"
    }
   ],
   "source": [
    "def cal_aqi(si,ni,rpi,spi):\n",
    "    aqi=0\n",
    "    if(si>ni and si>rpi and si>spi):\n",
    "        aqi=si\n",
    "    if(ni>si and ni>rpi and ni>spi):\n",
    "        aqi=ni\n",
    "    if(rpi>si and rpi>ni and rpi>spi):\n",
    "        aqi=rpi\n",
    "    if(spi>si and spi>ni and spi>rpi):\n",
    "        aqi=spi\n",
    "    return aqi\n",
    "\n",
    "df['AQI']=df.apply(lambda x:cal_aqi(x['SOi'],x['NOi'],x['Rpi'],x['SPMI']),axis=1)\n",
    "data= df[['state','SOi','NOi','Rpi','SPMI','AQI']]\n",
    "data.head()\n",
    "#Calculating the air quality index"
   ]
  },
  {
   "cell_type": "code",
   "execution_count": 35,
   "id": "570d68fd",
   "metadata": {},
   "outputs": [
    {
     "data": {
      "text/html": [
       "<div>\n",
       "<style scoped>\n",
       "    .dataframe tbody tr th:only-of-type {\n",
       "        vertical-align: middle;\n",
       "    }\n",
       "\n",
       "    .dataframe tbody tr th {\n",
       "        vertical-align: top;\n",
       "    }\n",
       "\n",
       "    .dataframe thead th {\n",
       "        text-align: right;\n",
       "    }\n",
       "</style>\n",
       "<table border=\"1\" class=\"dataframe\">\n",
       "  <thead>\n",
       "    <tr style=\"text-align: right;\">\n",
       "      <th></th>\n",
       "      <th>state</th>\n",
       "      <th>location</th>\n",
       "      <th>type</th>\n",
       "      <th>so2</th>\n",
       "      <th>no2</th>\n",
       "      <th>rspm</th>\n",
       "      <th>spm</th>\n",
       "      <th>pm2_5</th>\n",
       "      <th>SOi</th>\n",
       "      <th>NOi</th>\n",
       "      <th>Rpi</th>\n",
       "      <th>SPMI</th>\n",
       "      <th>AQI</th>\n",
       "      <th>AQI_Range</th>\n",
       "    </tr>\n",
       "  </thead>\n",
       "  <tbody>\n",
       "    <tr>\n",
       "      <th>0</th>\n",
       "      <td>Andhra Pradesh</td>\n",
       "      <td>Hyderabad</td>\n",
       "      <td>Residential, Rural and other Areas</td>\n",
       "      <td>4.8</td>\n",
       "      <td>17.4</td>\n",
       "      <td>0.0</td>\n",
       "      <td>0.0</td>\n",
       "      <td>0.0</td>\n",
       "      <td>6.000</td>\n",
       "      <td>21.750</td>\n",
       "      <td>0.0</td>\n",
       "      <td>0.0</td>\n",
       "      <td>21.750</td>\n",
       "      <td>Good</td>\n",
       "    </tr>\n",
       "    <tr>\n",
       "      <th>1</th>\n",
       "      <td>Andhra Pradesh</td>\n",
       "      <td>Hyderabad</td>\n",
       "      <td>Industrial Area</td>\n",
       "      <td>3.1</td>\n",
       "      <td>7.0</td>\n",
       "      <td>0.0</td>\n",
       "      <td>0.0</td>\n",
       "      <td>0.0</td>\n",
       "      <td>3.875</td>\n",
       "      <td>8.750</td>\n",
       "      <td>0.0</td>\n",
       "      <td>0.0</td>\n",
       "      <td>8.750</td>\n",
       "      <td>Good</td>\n",
       "    </tr>\n",
       "    <tr>\n",
       "      <th>2</th>\n",
       "      <td>Andhra Pradesh</td>\n",
       "      <td>Hyderabad</td>\n",
       "      <td>Residential, Rural and other Areas</td>\n",
       "      <td>6.2</td>\n",
       "      <td>28.5</td>\n",
       "      <td>0.0</td>\n",
       "      <td>0.0</td>\n",
       "      <td>0.0</td>\n",
       "      <td>7.750</td>\n",
       "      <td>35.625</td>\n",
       "      <td>0.0</td>\n",
       "      <td>0.0</td>\n",
       "      <td>35.625</td>\n",
       "      <td>Good</td>\n",
       "    </tr>\n",
       "    <tr>\n",
       "      <th>3</th>\n",
       "      <td>Andhra Pradesh</td>\n",
       "      <td>Hyderabad</td>\n",
       "      <td>Residential, Rural and other Areas</td>\n",
       "      <td>6.3</td>\n",
       "      <td>14.7</td>\n",
       "      <td>0.0</td>\n",
       "      <td>0.0</td>\n",
       "      <td>0.0</td>\n",
       "      <td>7.875</td>\n",
       "      <td>18.375</td>\n",
       "      <td>0.0</td>\n",
       "      <td>0.0</td>\n",
       "      <td>18.375</td>\n",
       "      <td>Good</td>\n",
       "    </tr>\n",
       "    <tr>\n",
       "      <th>4</th>\n",
       "      <td>Andhra Pradesh</td>\n",
       "      <td>Hyderabad</td>\n",
       "      <td>Industrial Area</td>\n",
       "      <td>4.7</td>\n",
       "      <td>7.5</td>\n",
       "      <td>0.0</td>\n",
       "      <td>0.0</td>\n",
       "      <td>0.0</td>\n",
       "      <td>5.875</td>\n",
       "      <td>9.375</td>\n",
       "      <td>0.0</td>\n",
       "      <td>0.0</td>\n",
       "      <td>9.375</td>\n",
       "      <td>Good</td>\n",
       "    </tr>\n",
       "  </tbody>\n",
       "</table>\n",
       "</div>"
      ],
      "text/plain": [
       "            state   location                                type  so2   no2  \\\n",
       "0  Andhra Pradesh  Hyderabad  Residential, Rural and other Areas  4.8  17.4   \n",
       "1  Andhra Pradesh  Hyderabad                     Industrial Area  3.1   7.0   \n",
       "2  Andhra Pradesh  Hyderabad  Residential, Rural and other Areas  6.2  28.5   \n",
       "3  Andhra Pradesh  Hyderabad  Residential, Rural and other Areas  6.3  14.7   \n",
       "4  Andhra Pradesh  Hyderabad                     Industrial Area  4.7   7.5   \n",
       "\n",
       "   rspm  spm  pm2_5    SOi     NOi  Rpi  SPMI     AQI AQI_Range  \n",
       "0   0.0  0.0    0.0  6.000  21.750  0.0   0.0  21.750      Good  \n",
       "1   0.0  0.0    0.0  3.875   8.750  0.0   0.0   8.750      Good  \n",
       "2   0.0  0.0    0.0  7.750  35.625  0.0   0.0  35.625      Good  \n",
       "3   0.0  0.0    0.0  7.875  18.375  0.0   0.0  18.375      Good  \n",
       "4   0.0  0.0    0.0  5.875   9.375  0.0   0.0   9.375      Good  "
      ]
     },
     "execution_count": 35,
     "metadata": {},
     "output_type": "execute_result"
    }
   ],
   "source": [
    "def AQI_Range(x):\n",
    "    if x<=50:\n",
    "        return \"Good\"\n",
    "    elif x>50 and x<=100:\n",
    "        return \"Moderate\"\n",
    "    elif x>100 and x<=200:\n",
    "        return \"Poor\"\n",
    "    elif x>200 and x<=300:\n",
    "        return \"Unhealthy\"\n",
    "    elif x>300 and x<=400:\n",
    "        return \"Very Unhealthy\"\n",
    "    elif x>400:\n",
    "        return \"Heatwave\"\n",
    "\n",
    "df['AQI_Range']=df['AQI'] .apply(AQI_Range)\n",
    "df.head()\n",
    "# using threshold values to classify a particular values as good, moderate, poor, unhealthy, very unhealthy and heatwave"
   ]
  },
  {
   "cell_type": "code",
   "execution_count": 36,
   "id": "3534eddb",
   "metadata": {},
   "outputs": [
    {
     "data": {
      "text/plain": [
       "Good              219663\n",
       "Poor               93454\n",
       "Moderate           56571\n",
       "Unhealthy          31572\n",
       "Heatwave           18692\n",
       "Very Unhealthy     15790\n",
       "Name: AQI_Range, dtype: int64"
      ]
     },
     "execution_count": 36,
     "metadata": {},
     "output_type": "execute_result"
    }
   ],
   "source": [
    "df['AQI_Range'].value_counts()\n",
    "# These are the counts of values present in the AQI_Range column"
   ]
  },
  {
   "cell_type": "code",
   "execution_count": 37,
   "id": "1d6f36a8",
   "metadata": {},
   "outputs": [],
   "source": [
    "# Splitting the dataset into Dependent and Independent columns"
   ]
  },
  {
   "cell_type": "code",
   "execution_count": 38,
   "id": "9f5584fd",
   "metadata": {},
   "outputs": [
    {
     "data": {
      "text/html": [
       "<div>\n",
       "<style scoped>\n",
       "    .dataframe tbody tr th:only-of-type {\n",
       "        vertical-align: middle;\n",
       "    }\n",
       "\n",
       "    .dataframe tbody tr th {\n",
       "        vertical-align: top;\n",
       "    }\n",
       "\n",
       "    .dataframe thead th {\n",
       "        text-align: right;\n",
       "    }\n",
       "</style>\n",
       "<table border=\"1\" class=\"dataframe\">\n",
       "  <thead>\n",
       "    <tr style=\"text-align: right;\">\n",
       "      <th></th>\n",
       "      <th>SOi</th>\n",
       "      <th>NOi</th>\n",
       "      <th>Rpi</th>\n",
       "      <th>SPMI</th>\n",
       "    </tr>\n",
       "  </thead>\n",
       "  <tbody>\n",
       "    <tr>\n",
       "      <th>0</th>\n",
       "      <td>6.000</td>\n",
       "      <td>21.750</td>\n",
       "      <td>0.0</td>\n",
       "      <td>0.0</td>\n",
       "    </tr>\n",
       "    <tr>\n",
       "      <th>1</th>\n",
       "      <td>3.875</td>\n",
       "      <td>8.750</td>\n",
       "      <td>0.0</td>\n",
       "      <td>0.0</td>\n",
       "    </tr>\n",
       "    <tr>\n",
       "      <th>2</th>\n",
       "      <td>7.750</td>\n",
       "      <td>35.625</td>\n",
       "      <td>0.0</td>\n",
       "      <td>0.0</td>\n",
       "    </tr>\n",
       "    <tr>\n",
       "      <th>3</th>\n",
       "      <td>7.875</td>\n",
       "      <td>18.375</td>\n",
       "      <td>0.0</td>\n",
       "      <td>0.0</td>\n",
       "    </tr>\n",
       "    <tr>\n",
       "      <th>4</th>\n",
       "      <td>5.875</td>\n",
       "      <td>9.375</td>\n",
       "      <td>0.0</td>\n",
       "      <td>0.0</td>\n",
       "    </tr>\n",
       "  </tbody>\n",
       "</table>\n",
       "</div>"
      ],
      "text/plain": [
       "     SOi     NOi  Rpi  SPMI\n",
       "0  6.000  21.750  0.0   0.0\n",
       "1  3.875   8.750  0.0   0.0\n",
       "2  7.750  35.625  0.0   0.0\n",
       "3  7.875  18.375  0.0   0.0\n",
       "4  5.875   9.375  0.0   0.0"
      ]
     },
     "execution_count": 38,
     "metadata": {},
     "output_type": "execute_result"
    }
   ],
   "source": [
    "# we only select columns like soi, noi, rspi, spi\n",
    "X=df[['SOi', 'NOi', 'Rpi', 'SPMI']]\n",
    "Y=df['AQI']\n",
    "X.head()\n"
   ]
  },
  {
   "cell_type": "code",
   "execution_count": 39,
   "id": "b1b962fb",
   "metadata": {},
   "outputs": [
    {
     "data": {
      "text/plain": [
       "0    21.750\n",
       "1     8.750\n",
       "2    35.625\n",
       "3    18.375\n",
       "4     9.375\n",
       "Name: AQI, dtype: float64"
      ]
     },
     "execution_count": 39,
     "metadata": {},
     "output_type": "execute_result"
    }
   ],
   "source": [
    "# the AQI column is the target column\n",
    "Y.head()"
   ]
  },
  {
   "cell_type": "code",
   "execution_count": 40,
   "id": "f2978880",
   "metadata": {},
   "outputs": [
    {
     "name": "stdout",
     "output_type": "stream",
     "text": [
      "(348593, 4) (87149, 4) (348593,) (87149,)\n"
     ]
    }
   ],
   "source": [
    "# Splitting the data into training and testing data\n",
    "X_train,X_test,Y_train,Y_test=train_test_split(X,Y,test_size=0.2,random_state=70)\n",
    "print(X_train.shape,X_test.shape,Y_train.shape,Y_test.shape)"
   ]
  },
  {
   "cell_type": "code",
   "execution_count": 41,
   "id": "3a9c2d78",
   "metadata": {},
   "outputs": [],
   "source": [
    "#Linear Regression model"
   ]
  },
  {
   "cell_type": "code",
   "execution_count": 42,
   "id": "75e4543a",
   "metadata": {},
   "outputs": [
    {
     "data": {
      "text/plain": [
       "LinearRegression()"
      ]
     },
     "execution_count": 42,
     "metadata": {},
     "output_type": "execute_result"
    }
   ],
   "source": [
    "model=LinearRegression()\n",
    "model.fit(X_train,Y_train)"
   ]
  },
  {
   "cell_type": "code",
   "execution_count": 43,
   "id": "aa3457b4",
   "metadata": {},
   "outputs": [],
   "source": [
    "#Predicting on train\n",
    "train_pred=model.predict(X_train)\n",
    "#predicting on test\n",
    "test_pred=model.predict(X_test)"
   ]
  },
  {
   "cell_type": "code",
   "execution_count": 44,
   "id": "3f75f9ce",
   "metadata": {},
   "outputs": [
    {
     "name": "stdout",
     "output_type": "stream",
     "text": [
      "RMSE TrainingData =  13.036579259471658\n",
      "RMSE TestData =  13.16451366168132\n",
      "--------------------------------------------------\n",
      "RSquared value on train: 0.9861161278938458\n",
      "RSquared value on test: 0.9858222098899132\n"
     ]
    }
   ],
   "source": [
    "RMSE_train=(np.sqrt(metrics.mean_squared_error(Y_train,train_pred)))\n",
    "RMSE_test=(np.sqrt(metrics.mean_squared_error(Y_test,test_pred)))\n",
    "\n",
    "print(\"RMSE TrainingData = \",str(RMSE_train))\n",
    "print(\"RMSE TestData = \",str(RMSE_test))\n",
    "print('-'*50)\n",
    "print('RSquared value on train:',model.score(X_train,Y_train))\n",
    "print('RSquared value on test:',model.score(X_test,Y_test))\n"
   ]
  },
  {
   "cell_type": "code",
   "execution_count": 45,
   "id": "4b1e47e5",
   "metadata": {},
   "outputs": [],
   "source": [
    "#Decision Tree Regressor"
   ]
  },
  {
   "cell_type": "code",
   "execution_count": 46,
   "id": "d4c34bda",
   "metadata": {},
   "outputs": [
    {
     "data": {
      "text/plain": [
       "DecisionTreeRegressor()"
      ]
     },
     "execution_count": 46,
     "metadata": {},
     "output_type": "execute_result"
    }
   ],
   "source": [
    "DT=DecisionTreeRegressor()\n",
    "DT.fit(X_train,Y_train)"
   ]
  },
  {
   "cell_type": "code",
   "execution_count": 47,
   "id": "4f1a942e",
   "metadata": {},
   "outputs": [],
   "source": [
    "#predicting train\n",
    "train_preds=DT.predict(X_train)\n",
    "#predicting test\n",
    "test_preds=DT.predict(X_test)"
   ]
  },
  {
   "cell_type": "code",
   "execution_count": 48,
   "id": "44839534",
   "metadata": {},
   "outputs": [
    {
     "name": "stdout",
     "output_type": "stream",
     "text": [
      "RMSE TrainingData =  2.2618569275593674e-13\n",
      "RMSE TestData =  1.1937728681513136\n",
      "--------------------------------------------------\n",
      "RSquared value on train: 1.0\n",
      "RSquared value on test: 0.999883415098039\n"
     ]
    }
   ],
   "source": [
    "RMSE_train=(np.sqrt(metrics.mean_squared_error(Y_train,train_preds)))\n",
    "RMSE_test=(np.sqrt(metrics.mean_squared_error(Y_test,test_preds)))\n",
    "\n",
    "print(\"RMSE TrainingData = \",str(RMSE_train))\n",
    "print(\"RMSE TestData = \",str(RMSE_test))\n",
    "print('-'*50)\n",
    "print('RSquared value on train:',DT.score(X_train,Y_train))\n",
    "print('RSquared value on test:',DT.score(X_test,Y_test))"
   ]
  },
  {
   "cell_type": "code",
   "execution_count": 49,
   "id": "809c9a7c",
   "metadata": {},
   "outputs": [],
   "source": [
    "#Random Forest Regressor"
   ]
  },
  {
   "cell_type": "code",
   "execution_count": 50,
   "id": "d4d3cf76",
   "metadata": {},
   "outputs": [],
   "source": [
    "RF=RandomForestRegressor().fit(X_train,Y_train)"
   ]
  },
  {
   "cell_type": "code",
   "execution_count": 51,
   "id": "61903982",
   "metadata": {},
   "outputs": [],
   "source": [
    "#predicting train\n",
    "train_preds1=RF.predict(X_train)\n",
    "#predicting test\n",
    "test_preds1=RF.predict(X_test)"
   ]
  },
  {
   "cell_type": "code",
   "execution_count": 52,
   "id": "faff3244",
   "metadata": {},
   "outputs": [
    {
     "name": "stdout",
     "output_type": "stream",
     "text": [
      "RMSE TrainingData =  0.4082428949234372\n",
      "RMSE TestData =  1.0248199432160114\n",
      "--------------------------------------------------\n",
      "RSquared value on train: 0.9999863849081467\n",
      "RSquared value on test: 0.9999140800451395\n"
     ]
    }
   ],
   "source": [
    "RMSE_train=(np.sqrt(metrics.mean_squared_error(Y_train,train_preds1)))\n",
    "RMSE_test=(np.sqrt(metrics.mean_squared_error(Y_test,test_preds1)))\n",
    "\n",
    "print(\"RMSE TrainingData = \",str(RMSE_train))\n",
    "print(\"RMSE TestData = \",str(RMSE_test))\n",
    "print('-'*50)\n",
    "print('RSquared value on train:',RF.score(X_train,Y_train))\n",
    "print('RSquared value on test:',RF.score(X_test,Y_test))"
   ]
  },
  {
   "cell_type": "code",
   "execution_count": 53,
   "id": "dd432bdf",
   "metadata": {},
   "outputs": [],
   "source": [
    "#Classification Algorithms"
   ]
  },
  {
   "cell_type": "code",
   "execution_count": 54,
   "id": "bef5cbef",
   "metadata": {},
   "outputs": [],
   "source": [
    "from sklearn.linear_model import LogisticRegression\n",
    "from sklearn.tree import DecisionTreeClassifier\n",
    "from sklearn.ensemble import RandomForestClassifier\n",
    "from sklearn.neighbors import KNeighborsClassifier"
   ]
  },
  {
   "cell_type": "code",
   "execution_count": 55,
   "id": "309a10a1",
   "metadata": {},
   "outputs": [],
   "source": [
    "# Splitting the data into independent and dependent columns for classification\n",
    "X2 = df[['SOi','NOi','Rpi','SPMI']]\n",
    "Y2 = df[['AQI_Range']]"
   ]
  },
  {
   "cell_type": "code",
   "execution_count": 56,
   "id": "e4ddb573",
   "metadata": {},
   "outputs": [],
   "source": [
    "# Splitting the data into training and testing data\n",
    "X_train2,X_test2,Y_train2,Y_test2=train_test_split(X2,Y2,test_size=0.33,random_state=70)"
   ]
  },
  {
   "cell_type": "code",
   "execution_count": 57,
   "id": "50c57329",
   "metadata": {},
   "outputs": [],
   "source": [
    "#Logistic Regression model"
   ]
  },
  {
   "cell_type": "code",
   "execution_count": 58,
   "id": "2e2f507f",
   "metadata": {},
   "outputs": [
    {
     "name": "stdout",
     "output_type": "stream",
     "text": [
      "Model accuracy on train is: 0.7540615248658147\n",
      "Model accuracy on test is: 0.7545881289335512\n",
      "--------------------------------------------------\n",
      "KappaScore is: 0.6239966563223742\n"
     ]
    }
   ],
   "source": [
    "#fit the model on train data\n",
    "log_reg = LogisticRegression().fit(X_train2,Y_train2)\n",
    "\n",
    "#predict on train\n",
    "train_preds2=log_reg.predict(X_train2)\n",
    "#accuracy on train\n",
    "print(\"Model accuracy on train is:\", accuracy_score(Y_train2,train_preds2))\n",
    "\n",
    "#predict on test\n",
    "test_preds2=log_reg.predict(X_test2)\n",
    "#accuracy on test\n",
    "print(\"Model accuracy on test is:\", accuracy_score(Y_test2,test_preds2))\n",
    "print('-'*50)\n",
    "\n",
    "# Kappa score\n",
    "print ('KappaScore is:', metrics.cohen_kappa_score(Y_test2,test_preds2))"
   ]
  },
  {
   "cell_type": "code",
   "execution_count": 59,
   "id": "cbd323a1",
   "metadata": {},
   "outputs": [
    {
     "data": {
      "text/plain": [
       "array(['Unhealthy'], dtype=object)"
      ]
     },
     "execution_count": 59,
     "metadata": {},
     "output_type": "execute_result"
    }
   ],
   "source": [
    "#prediction on random values\n",
    "log_reg.predict([[727,327.55,78.2,100]])"
   ]
  },
  {
   "cell_type": "code",
   "execution_count": 60,
   "id": "1adffbb4",
   "metadata": {},
   "outputs": [
    {
     "data": {
      "text/plain": [
       "array(['Good'], dtype=object)"
      ]
     },
     "execution_count": 60,
     "metadata": {},
     "output_type": "execute_result"
    }
   ],
   "source": [
    "#prediction on random values\n",
    "log_reg.predict([[2.7,45,35.16,23]])"
   ]
  },
  {
   "cell_type": "code",
   "execution_count": 61,
   "id": "d66a4320",
   "metadata": {},
   "outputs": [],
   "source": [
    "#Decision Tree Classifier"
   ]
  },
  {
   "cell_type": "code",
   "execution_count": 62,
   "id": "a505cbf0",
   "metadata": {},
   "outputs": [
    {
     "name": "stdout",
     "output_type": "stream",
     "text": [
      "Model accuracy on train is: 1.0\n",
      "Model accuracy on test is: 0.9997774609687402\n",
      "--------------------------------------------------\n",
      "KappaScore is: 0.9996698510519874\n"
     ]
    }
   ],
   "source": [
    "#fit the model on train data\n",
    "DT2 = DecisionTreeClassifier().fit(X_train2,Y_train2)\n",
    "\n",
    "#predict on train\n",
    "train_preds3=DT2.predict(X_train2)\n",
    "#accuracy on train\n",
    "print(\"Model accuracy on train is:\", accuracy_score(Y_train2,train_preds3))\n",
    "\n",
    "#predict on test\n",
    "test_preds3=DT2.predict(X_test2)\n",
    "#accuracy on test\n",
    "print(\"Model accuracy on test is:\", accuracy_score(Y_test2,test_preds3))\n",
    "print('-'*50)\n",
    "\n",
    "# Kappa score\n",
    "print ('KappaScore is:', metrics.cohen_kappa_score(Y_test2,test_preds3))"
   ]
  },
  {
   "cell_type": "code",
   "execution_count": 63,
   "id": "0078077c",
   "metadata": {},
   "outputs": [],
   "source": [
    "#Random Forest Classifier"
   ]
  },
  {
   "cell_type": "code",
   "execution_count": 64,
   "id": "fd3eff05",
   "metadata": {},
   "outputs": [
    {
     "name": "stdout",
     "output_type": "stream",
     "text": [
      "Model accuracy on train is: 1.0\n",
      "Model accuracy on test is: 0.9998400500712821\n",
      "--------------------------------------------------\n",
      "KappaScore is: 0.9997627093380352\n"
     ]
    }
   ],
   "source": [
    "#fit the model on train data\n",
    "RF = RandomForestClassifier().fit(X_train2,Y_train2)\n",
    "\n",
    "#predict on train\n",
    "train_preds4=RF.predict(X_train2)\n",
    "#accuracy on train\n",
    "print(\"Model accuracy on train is:\", accuracy_score(Y_train2,train_preds4))\n",
    "\n",
    "#predict on test\n",
    "test_preds4=RF.predict(X_test2)\n",
    "#accuracy on test\n",
    "print(\"Model accuracy on test is:\", accuracy_score(Y_test2,test_preds4))\n",
    "print('-'*50)\n",
    "\n",
    "# Kappa score\n",
    "print ('KappaScore is:', metrics.cohen_kappa_score(Y_test2,test_preds4))"
   ]
  },
  {
   "cell_type": "code",
   "execution_count": 65,
   "id": "f4f2f65b",
   "metadata": {},
   "outputs": [],
   "source": [
    "#K-Nearest Neighbours"
   ]
  },
  {
   "cell_type": "code",
   "execution_count": 66,
   "id": "212dd162",
   "metadata": {},
   "outputs": [
    {
     "name": "stdout",
     "output_type": "stream",
     "text": [
      "Model accuracy on train is: 0.9980818436223013\n",
      "Model accuracy on test is: 0.996627142807469\n",
      "--------------------------------------------------\n",
      "KappaScore is: 0.9949952864587799\n"
     ]
    }
   ],
   "source": [
    "#fit the model on train data\n",
    "KNN = KNeighborsClassifier().fit(X_train2,Y_train2)\n",
    "\n",
    "#predict on train\n",
    "train_preds5=KNN.predict(X_train2)\n",
    "#accuracy on train\n",
    "print(\"Model accuracy on train is:\", accuracy_score(Y_train2,train_preds5))\n",
    "\n",
    "#predict on test\n",
    "test_preds5=KNN.predict(X_test2)\n",
    "#accuracy on test\n",
    "print(\"Model accuracy on test is:\", accuracy_score(Y_test2,test_preds5))\n",
    "print('-'*50)\n",
    "\n",
    "# Kappa score\n",
    "print ('KappaScore is:', metrics.cohen_kappa_score(Y_test2,test_preds5))"
   ]
  },
  {
   "cell_type": "code",
   "execution_count": 67,
   "id": "18ebceb2",
   "metadata": {},
   "outputs": [
    {
     "data": {
      "text/plain": [
       "array(['Poor'], dtype=object)"
      ]
     },
     "execution_count": 67,
     "metadata": {},
     "output_type": "execute_result"
    }
   ],
   "source": [
    "#prediction on random values\n",
    "KNN.predict([[7.4,47.7,78.182,100]])"
   ]
  },
  {
   "cell_type": "code",
   "execution_count": 68,
   "id": "1fff34bc",
   "metadata": {},
   "outputs": [
    {
     "data": {
      "text/plain": [
       "array(['Unhealthy'], dtype=object)"
      ]
     },
     "execution_count": 68,
     "metadata": {},
     "output_type": "execute_result"
    }
   ],
   "source": [
    "#prediction on random values\n",
    "KNN.predict([[325.7,345,798.182,203]])"
   ]
  },
  {
   "cell_type": "code",
   "execution_count": null,
   "id": "e8da76b3",
   "metadata": {},
   "outputs": [],
   "source": []
  }
 ],
 "metadata": {
  "kernelspec": {
   "display_name": "Python 3 (ipykernel)",
   "language": "python",
   "name": "python3"
  },
  "language_info": {
   "codemirror_mode": {
    "name": "ipython",
    "version": 3
   },
   "file_extension": ".py",
   "mimetype": "text/x-python",
   "name": "python",
   "nbconvert_exporter": "python",
   "pygments_lexer": "ipython3",
   "version": "3.9.13"
  }
 },
 "nbformat": 4,
 "nbformat_minor": 5
}
